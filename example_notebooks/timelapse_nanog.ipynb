{
 "cells": [
  {
   "cell_type": "code",
   "execution_count": null,
   "metadata": {},
   "outputs": [],
   "source": [
    "!pip uninstall basicpy jaxlib jax -y\n",
    "!pip install basicpy"
   ]
  },
  {
   "cell_type": "code",
   "execution_count": null,
   "metadata": {},
   "outputs": [],
   "source": [
    "from basicpy import BaSiC\n",
    "from basicpy import data as bdata\n",
    "from matplotlib import pyplot as plt\n",
    "\n",
    "images=bdata.timelapse_nanog()\n",
    "basic =BaSiC(working_size=None,lambda_flatfield_coef=1)\n",
    "basic.fit(images)\n",
    "\n",
    "fig,axes = plt.subplots(1,3,figsize=(9,3))\n",
    "im=axes[0].imshow(basic.flatfield)\n",
    "fig.colorbar(im,ax=axes[0])\n",
    "axes[0].set_title('Flatfield')\n",
    "im=axes[1].imshow(basic.darkfield)\n",
    "fig.colorbar(im,ax=axes[1])\n",
    "axes[1].set_title('Darkfield')\n",
    "axes[2].plot(basic.baseline)\n",
    "axes[2].set_xlabel('Frame')\n",
    "axes[2].set_ylabel('Baseline')\n",
    "fig.tight_layout()"
   ]
  },
  {
   "cell_type": "code",
   "execution_count": null,
   "metadata": {},
   "outputs": [],
   "source": [
    "basic =BaSiC(working_size=None,lambda_flatfield_coef=100)\n",
    "basic.fit(images)\n",
    "\n",
    "fig,axes = plt.subplots(1,3,figsize=(9,3))\n",
    "im=axes[0].imshow(basic.flatfield)\n",
    "fig.colorbar(im,ax=axes[0])\n",
    "axes[0].set_title('Flatfield')\n",
    "im=axes[1].imshow(basic.darkfield)\n",
    "fig.colorbar(im,ax=axes[1])\n",
    "axes[1].set_title('Darkfield')\n",
    "axes[2].plot(basic.baseline)\n",
    "axes[2].set_xlabel('Frame')\n",
    "axes[2].set_ylabel('Baseline')\n",
    "fig.tight_layout()"
   ]
  },
  {
   "cell_type": "code",
   "execution_count": null,
   "metadata": {},
   "outputs": [],
   "source": [
    "images_transformed=basic.transform(images)"
   ]
  },
  {
   "cell_type": "code",
   "execution_count": null,
   "metadata": {},
   "outputs": [],
   "source": [
    "i=12\n",
    "fig,axes = plt.subplots(1,2,figsize=(6,3))\n",
    "im=axes[0].imshow(images[i])\n",
    "fig.colorbar(im,ax=axes[0])\n",
    "axes[0].set_title('Original')\n",
    "im=axes[1].imshow(images_transformed[i])\n",
    "fig.colorbar(im,ax=axes[1])\n",
    "axes[1].set_title('Corrected')\n",
    "fig.tight_layout()"
   ]
  },
  {
   "cell_type": "code",
   "execution_count": null,
   "metadata": {},
   "outputs": [],
   "source": []
  }
 ],
 "metadata": {
  "interpreter": {
   "hash": "b4774d7a9c60e8776bdd0827aa75a1dc1c13886d92e222f82e2571adfd271cb7"
  },
  "kernelspec": {
   "display_name": "Python 3.9.7 64-bit ('3.9.7')",
   "language": "python",
   "name": "python3"
  },
  "language_info": {
   "codemirror_mode": {
    "name": "ipython",
    "version": 3
   },
   "file_extension": ".py",
   "mimetype": "text/x-python",
   "name": "python",
   "nbconvert_exporter": "python",
   "pygments_lexer": "ipython3",
   "version": "3.9.7"
  },
  "orig_nbformat": 4
 },
 "nbformat": 4,
 "nbformat_minor": 2
}
