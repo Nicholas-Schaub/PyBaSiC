{
  "cells": [
    {
      "cell_type": "code",
      "execution_count": null,
      "metadata": {
        "colab": {
          "base_uri": "https://localhost:8080/"
        },
        "id": "DCqaHnhpvUke",
        "outputId": "0918aaf4-8417-423f-8445-6a47c2599739"
      },
      "outputs": [],
      "source": [
        "!pip uninstall basicpy -y\n",
        "!pip install basicpy"
      ]
    },
    {
      "cell_type": "code",
      "execution_count": null,
      "metadata": {
        "colab": {
          "base_uri": "https://localhost:8080/",
          "height": 689
        },
        "id": "Yd4VFjNSvUki",
        "outputId": "ac5030ba-a65f-465c-a4c2-6447d96f0614"
      },
      "outputs": [],
      "source": [
        "from basicpy import BaSiC\n",
        "from basicpy import data as bdata\n",
        "from matplotlib import pyplot as plt\n",
        "\n",
        "images=bdata.wsi_brain()\n",
        "basic =BaSiC(get_darkfield=True,lambda_flatfield_coef=10)\n",
        "basic.fit(images)\n",
        "\n",
        "fig,axes = plt.subplots(1,3,figsize=(9,3))\n",
        "im=axes[0].imshow(basic.flatfield)\n",
        "fig.colorbar(im,ax=axes[0])\n",
        "axes[0].set_title('Flatfield')\n",
        "im=axes[1].imshow(basic.darkfield)\n",
        "fig.colorbar(im,ax=axes[1])\n",
        "axes[1].set_title('Darkfield')\n",
        "axes[2].plot(basic.baseline)\n",
        "axes[2].set_xlabel('Frame')\n",
        "axes[2].set_ylabel('Baseline')\n",
        "fig.tight_layout()"
      ]
    },
    {
      "cell_type": "code",
      "execution_count": null,
      "metadata": {
        "colab": {
          "base_uri": "https://localhost:8080/"
        },
        "id": "puhxtk2XvUkj",
        "outputId": "78d0bfbb-c10a-48b0-8e16-69d1059fe138"
      },
      "outputs": [],
      "source": [
        "images_transformed=basic.transform(images)"
      ]
    },
    {
      "cell_type": "code",
      "execution_count": null,
      "metadata": {
        "colab": {
          "base_uri": "https://localhost:8080/",
          "height": 225
        },
        "id": "M4nq6-NCvUkj",
        "outputId": "5facd044-3ee2-48b5-e6ac-19529f0250a6"
      },
      "outputs": [],
      "source": [
        "i=12\n",
        "fig,axes = plt.subplots(1,2,figsize=(6,3))\n",
        "im=axes[0].imshow(images[i])\n",
        "fig.colorbar(im,ax=axes[0])\n",
        "axes[0].set_title('Original')\n",
        "im=axes[1].imshow(images_transformed[i])\n",
        "fig.colorbar(im,ax=axes[1])\n",
        "axes[1].set_title('Corrected')\n",
        "fig.tight_layout()"
      ]
    },
    {
      "cell_type": "code",
      "execution_count": null,
      "metadata": {
        "id": "Gx8VgVRovUkk"
      },
      "outputs": [],
      "source": []
    }
  ],
  "metadata": {
    "accelerator": "GPU",
    "colab": {
      "name": "WSI_brain.ipynb",
      "provenance": []
    },
    "interpreter": {
      "hash": "b4774d7a9c60e8776bdd0827aa75a1dc1c13886d92e222f82e2571adfd271cb7"
    },
    "kernelspec": {
      "display_name": "Python 3.9.7 64-bit ('3.9.7')",
      "language": "python",
      "name": "python3"
    },
    "language_info": {
      "codemirror_mode": {
        "name": "ipython",
        "version": 3
      },
      "file_extension": ".py",
      "mimetype": "text/x-python",
      "name": "python",
      "nbconvert_exporter": "python",
      "pygments_lexer": "ipython3",
      "version": "3.9.7"
    },
    "orig_nbformat": 4
  },
  "nbformat": 4,
  "nbformat_minor": 0
}
