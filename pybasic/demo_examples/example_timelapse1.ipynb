{
 "cells": [
  {
   "cell_type": "markdown",
   "metadata": {},
   "source": [
    "## Import modules"
   ]
  },
  {
   "cell_type": "code",
   "execution_count": 1,
   "metadata": {},
   "outputs": [],
   "source": [
    "import os\n",
    "from matplotlib import pyplot as plt\n",
    "import pybasic"
   ]
  },
  {
   "cell_type": "markdown",
   "metadata": {},
   "source": [
    "## Declare image directory paths"
   ]
  },
  {
   "cell_type": "code",
   "execution_count": 2,
   "metadata": {},
   "outputs": [],
   "source": [
    "path_to_demo_examples = 'path/to/demoexamples/'\n",
    "path_to_demo_examples = '/Users/lorenz.lamm/PhD_projects/BaSiC/Demoexamples/'\n",
    "timelapse_path = os.path.join(path_to_demo_examples, 'timelapse_brightfield/Uncorrected')"
   ]
  },
  {
   "cell_type": "markdown",
   "metadata": {},
   "source": [
    "## Import image sequence"
   ]
  },
  {
   "cell_type": "code",
   "execution_count": 3,
   "metadata": {},
   "outputs": [
    {
     "name": "stdout",
     "output_type": "stream",
     "text": [
      "Loading image sequence...\n",
      "0 / 100\n",
      "10 / 100\n",
      "20 / 100\n",
      "30 / 100\n",
      "40 / 100\n",
      "50 / 100\n",
      "60 / 100\n",
      "70 / 100\n",
      "80 / 100\n",
      "90 / 100\n"
     ]
    }
   ],
   "source": [
    "D = pybasic.tools.load_data(timelapse_path, '.png', working_size=(128, 128), interpolation_method='bilinear')"
   ]
  },
  {
   "cell_type": "markdown",
   "metadata": {},
   "source": [
    "## Run BaSiC"
   ]
  },
  {
   "cell_type": "code",
   "execution_count": 4,
   "metadata": {},
   "outputs": [
    {
     "name": "stdout",
     "output_type": "stream",
     "text": [
      "Reweighting Iteration 1\n",
      "Iteration 1  |W|_0  1 |E1|_0 0  stopCriterion 0.41076390862912615 B1_offset 0\n",
      "Iteration 2  |W|_0  3 |E1|_0 0  stopCriterion 0.13907842299394105 B1_offset 0\n",
      "Iteration 3  |W|_0  4 |E1|_0 0  stopCriterion 0.08652055938964025 B1_offset 0\n",
      "Iteration 4  |W|_0  4 |E1|_0 0  stopCriterion 0.06196838568731831 B1_offset 0\n",
      "Iteration 5  |W|_0  6 |E1|_0 0  stopCriterion 0.05490027725707756 B1_offset 0\n",
      "Iteration 6  |W|_0  10 |E1|_0 0  stopCriterion 0.03654557274175826 B1_offset 0\n",
      "Iteration 7  |W|_0  15 |E1|_0 0  stopCriterion 0.022920020105107564 B1_offset 0\n",
      "Iteration 8  |W|_0  15 |E1|_0 0  stopCriterion 0.01923862925024133 B1_offset 0\n",
      "Iteration 9  |W|_0  22 |E1|_0 0  stopCriterion 0.01555347795447783 B1_offset 0\n",
      "Iteration 10  |W|_0  23 |E1|_0 0  stopCriterion 0.014018306901740815 B1_offset 0\n",
      "Iteration 11  |W|_0  28 |E1|_0 0  stopCriterion 0.013151956325859339 B1_offset 0\n",
      "Iteration 12  |W|_0  35 |E1|_0 0  stopCriterion 0.012391048841909112 B1_offset 0\n",
      "Iteration 13  |W|_0  49 |E1|_0 0  stopCriterion 0.01185959757934712 B1_offset 0\n",
      "Iteration 14  |W|_0  73 |E1|_0 3  stopCriterion 0.011477459469933579 B1_offset 0\n",
      "Iteration 15  |W|_0  98 |E1|_0 394  stopCriterion 0.011089441782643487 B1_offset 0\n",
      "Iteration 16  |W|_0  142 |E1|_0 2944  stopCriterion 0.010452046098628369 B1_offset 0\n",
      "Iteration 17  |W|_0  216 |E1|_0 12876  stopCriterion 0.009299318231695873 B1_offset 0\n",
      "Iteration 18  |W|_0  369 |E1|_0 35687  stopCriterion 0.007673911937451352 B1_offset 0\n",
      "Iteration 19  |W|_0  695 |E1|_0 72012  stopCriterion 0.006052141004318239 B1_offset 0\n",
      "Iteration 20  |W|_0  1300 |E1|_0 123571  stopCriterion 0.004693624374421661 B1_offset 0\n",
      "Iteration 21  |W|_0  2222 |E1|_0 196785  stopCriterion 0.00362016122230435 B1_offset 0\n",
      "Iteration 22  |W|_0  3412 |E1|_0 302060  stopCriterion 0.002772383275862261 B1_offset 0\n",
      "Iteration 23  |W|_0  4736 |E1|_0 455719  stopCriterion 0.002078276582734811 B1_offset 0\n",
      "Iteration 24  |W|_0  5842 |E1|_0 697338  stopCriterion 0.0014241400014010247 B1_offset 0\n",
      "Iteration 25  |W|_0  6377 |E1|_0 947478  stopCriterion 0.0008445475080245731 B1_offset 0\n",
      "Iteration 26  |W|_0  6633 |E1|_0 1140463  stopCriterion 0.0004778619447503425 B1_offset 0\n",
      "Iteration 27  |W|_0  6817 |E1|_0 1281965  stopCriterion 0.0002718990278111996 B1_offset 0\n",
      "Iteration 28  |W|_0  6989 |E1|_0 1385447  stopCriterion 0.00015515265516621496 B1_offset 0\n",
      "Iteration 29  |W|_0  7081 |E1|_0 1460268  stopCriterion 8.859279271085168e-05 B1_offset 0\n",
      "Iteration 30  |W|_0  7122 |E1|_0 1514392  stopCriterion 5.0456317392369005e-05 B1_offset 0\n",
      "Iteration 31  |W|_0  7149 |E1|_0 1552867  stopCriterion 2.8548123609614496e-05 B1_offset 0\n",
      "Iteration 32  |W|_0  7166 |E1|_0 1579905  stopCriterion 1.6088174139925237e-05 B1_offset 0\n",
      "Iteration 33  |W|_0  7182 |E1|_0 1598741  stopCriterion 8.980797613318082e-06 B1_offset 0\n",
      "Iteration 34  |W|_0  7186 |E1|_0 1611633  stopCriterion 4.9744275644835845e-06 B1_offset 0\n",
      "Iteration 35  |W|_0  7188 |E1|_0 1620276  stopCriterion 2.7486898318263256e-06 B1_offset 0\n",
      "Iteration 36  |W|_0  7185 |E1|_0 1626216  stopCriterion 1.528150894552813e-06 B1_offset 0\n",
      "Iteration 37  |W|_0  7185 |E1|_0 1630221  stopCriterion 8.406438984239574e-07 B1_offset 0\n",
      "Reweighting Iteration 2\n",
      "Iteration 1  |W|_0  1 |E1|_0 0  stopCriterion 0.41076390862912615 B1_offset 0\n",
      "Iteration 2  |W|_0  3 |E1|_0 0  stopCriterion 0.13907842299394105 B1_offset 0\n",
      "Iteration 3  |W|_0  4 |E1|_0 0  stopCriterion 0.08652055938964025 B1_offset 0\n",
      "Iteration 4  |W|_0  4 |E1|_0 0  stopCriterion 0.06196838568731831 B1_offset 0\n",
      "Iteration 5  |W|_0  6 |E1|_0 0  stopCriterion 0.05490027725707756 B1_offset 0\n",
      "Iteration 6  |W|_0  10 |E1|_0 0  stopCriterion 0.03654557274175826 B1_offset 0\n",
      "Iteration 7  |W|_0  15 |E1|_0 0  stopCriterion 0.022920020105107564 B1_offset 0\n",
      "Iteration 8  |W|_0  15 |E1|_0 0  stopCriterion 0.01923862925024133 B1_offset 0\n",
      "Iteration 9  |W|_0  22 |E1|_0 0  stopCriterion 0.01555347795447783 B1_offset 0\n",
      "Iteration 10  |W|_0  23 |E1|_0 0  stopCriterion 0.014018306901740815 B1_offset 0\n",
      "Iteration 11  |W|_0  28 |E1|_0 1  stopCriterion 0.013151705376543091 B1_offset 0\n",
      "Iteration 12  |W|_0  35 |E1|_0 54  stopCriterion 0.012371067331648614 B1_offset 0\n",
      "Iteration 13  |W|_0  49 |E1|_0 386  stopCriterion 0.01173080070623891 B1_offset 0\n",
      "Iteration 14  |W|_0  73 |E1|_0 1601  stopCriterion 0.011070865171349954 B1_offset 0\n",
      "Iteration 15  |W|_0  95 |E1|_0 4808  stopCriterion 0.010282477008289933 B1_offset 0\n",
      "Iteration 16  |W|_0  134 |E1|_0 13284  stopCriterion 0.00923650713214893 B1_offset 0\n",
      "Iteration 17  |W|_0  190 |E1|_0 28891  stopCriterion 0.008004188918581477 B1_offset 0\n",
      "Iteration 18  |W|_0  281 |E1|_0 53284  stopCriterion 0.0066763911058055955 B1_offset 0\n",
      "Iteration 19  |W|_0  474 |E1|_0 88921  stopCriterion 0.005455539806550128 B1_offset 0\n",
      "Iteration 20  |W|_0  909 |E1|_0 136677  stopCriterion 0.00439445705480053 B1_offset 0\n",
      "Iteration 21  |W|_0  1791 |E1|_0 205256  stopCriterion 0.0034929683583572618 B1_offset 0\n",
      "Iteration 22  |W|_0  2915 |E1|_0 304780  stopCriterion 0.002726716735101103 B1_offset 0\n",
      "Iteration 23  |W|_0  4265 |E1|_0 451785  stopCriterion 0.002073947374363826 B1_offset 0\n",
      "Iteration 24  |W|_0  5499 |E1|_0 683647  stopCriterion 0.001441973511946313 B1_offset 0\n",
      "Iteration 25  |W|_0  6102 |E1|_0 929007  stopCriterion 0.0008701629403464859 B1_offset 0\n",
      "Iteration 26  |W|_0  6424 |E1|_0 1122026  stopCriterion 0.0004980112596051764 B1_offset 0\n",
      "Iteration 27  |W|_0  6679 |E1|_0 1265464  stopCriterion 0.00028569670755323735 B1_offset 0\n",
      "Iteration 28  |W|_0  6856 |E1|_0 1371566  stopCriterion 0.00016414683353251905 B1_offset 0\n",
      "Iteration 29  |W|_0  6957 |E1|_0 1449473  stopCriterion 9.436106425571067e-05 B1_offset 0\n",
      "Iteration 30  |W|_0  7010 |E1|_0 1506185  stopCriterion 5.394021338493643e-05 B1_offset 0\n",
      "Iteration 31  |W|_0  7034 |E1|_0 1546810  stopCriterion 3.067435886260581e-05 B1_offset 0\n",
      "Iteration 32  |W|_0  7048 |E1|_0 1575538  stopCriterion 1.7306521355350933e-05 B1_offset 0\n",
      "Iteration 33  |W|_0  7053 |E1|_0 1595482  stopCriterion 9.677980918826425e-06 B1_offset 0\n",
      "Iteration 34  |W|_0  7061 |E1|_0 1609396  stopCriterion 5.397356503395645e-06 B1_offset 0\n",
      "Iteration 35  |W|_0  7064 |E1|_0 1618811  stopCriterion 2.9894054425847727e-06 B1_offset 0\n",
      "Iteration 36  |W|_0  7068 |E1|_0 1625201  stopCriterion 1.651080175065167e-06 B1_offset 0\n",
      "Iteration 37  |W|_0  7072 |E1|_0 1629471  stopCriterion 9.163024403383781e-07 B1_offset 0\n"
     ]
    }
   ],
   "source": [
    "flatfield = pybasic.basic(D, segmentation=None)"
   ]
  },
  {
   "cell_type": "markdown",
   "metadata": {},
   "source": [
    "## Prepare images for background fluorescence estimation (stack needs to be a list)"
   ]
  },
  {
   "cell_type": "code",
   "execution_count": 5,
   "metadata": {},
   "outputs": [],
   "source": [
    "images_list = []\n",
    "for i in range(D.shape[2]):\n",
    "    images_list.append(D[:,:,i])"
   ]
  },
  {
   "cell_type": "markdown",
   "metadata": {},
   "source": [
    "## Estimate background fluorescence"
   ]
  },
  {
   "cell_type": "code",
   "execution_count": 6,
   "metadata": {},
   "outputs": [
    {
     "name": "stdout",
     "output_type": "stream",
     "text": [
      "Iteration 1 : 0.022677460075299034\n",
      "Iteration 2 : 0.022677460075299034\n",
      "Iteration 3 : 0.022677460075299034\n",
      "Iteration 4 : 0.022677460075299034\n",
      "Iteration 5 : 0.022677460075299034\n",
      "Iteration 6 : 0.022677460075299034\n",
      "Iteration 7 : 0.022677460075299034\n",
      "Iteration 8 : 0.022677460075299034\n",
      "Iteration 9 : 0.022677460075299034\n",
      "Iteration 10 : 0.022677460075299034\n",
      "Iteration 11 : 0.022677460075299034\n",
      "Iteration 12 : 0.022677460075299034\n",
      "Iteration 13 : 0.022676062517093705\n",
      "Iteration 14 : 0.022605682005536427\n",
      "Iteration 15 : 0.02033550449536928\n",
      "Iteration 16 : 0.015412599791116767\n",
      "Iteration 17 : 0.011670103370622941\n",
      "Iteration 18 : 0.00902211911877389\n",
      "Iteration 19 : 0.006793058190658789\n",
      "Iteration 20 : 0.0049564960162228125\n",
      "Iteration 21 : 0.003561417671998698\n",
      "Iteration 22 : 0.0027235677173674507\n",
      "Iteration 23 : 0.0017817457932817289\n",
      "Iteration 24 : 0.001149178125387484\n",
      "Iteration 25 : 0.0007459008412667269\n",
      "Iteration 26 : 0.0004658984190575771\n",
      "Iteration 27 : 0.0002795939845866622\n",
      "Iteration 28 : 0.00016487221205176885\n",
      "Iteration 29 : 9.742591078283839e-05\n",
      "Iteration 30 : 5.567321741989514e-05\n",
      "Iteration 31 : 3.0481012026478725e-05\n",
      "Iteration 32 : 1.6712534047853207e-05\n",
      "Iteration 33 : 9.179155629798568e-06\n",
      "Iteration 34 : 4.968857006041823e-06\n",
      "Iteration 35 : 2.7070161930672577e-06\n",
      "Iteration 36 : 1.4806608728327787e-06\n",
      "Iteration 37 : 8.058520671280739e-07\n"
     ]
    },
    {
     "name": "stderr",
     "output_type": "stream",
     "text": [
      "/Users/lorenz.lamm/PhD_projects/BaSiC/pybasic/pybasic/_background.py:116: RuntimeWarning: divide by zero encountered in true_divide\n",
      "  XE_norm = np.transpose(np.tile(mean_vec, (16384, 1))) / XE_norm\n"
     ]
    },
    {
     "name": "stdout",
     "output_type": "stream",
     "text": [
      "Iteration 1 : 0.022676913496433932\n",
      "Iteration 2 : 0.022676912548261558\n",
      "Iteration 3 : 0.022676906277878772\n",
      "Iteration 4 : 0.022676897635160075\n",
      "Iteration 5 : 0.02267688350149187\n",
      "Iteration 6 : 0.022676861250111004\n",
      "Iteration 7 : 0.022676831881893157\n",
      "Iteration 8 : 0.022676787716037226\n",
      "Iteration 9 : 0.022676715297151904\n",
      "Iteration 10 : 0.022676510574346047\n",
      "Iteration 11 : 0.022676091366590132\n",
      "Iteration 12 : 0.022675393879661478\n",
      "Iteration 13 : 0.022674318681939965\n",
      "Iteration 14 : 0.022672667197667678\n",
      "Iteration 15 : 0.022670010501135106\n",
      "Iteration 16 : 0.022665775776547444\n",
      "Iteration 17 : 0.022658908189584034\n",
      "Iteration 18 : 0.022647125656617563\n",
      "Iteration 19 : 0.022623849857108944\n",
      "Iteration 20 : 0.02256211067541092\n",
      "Iteration 21 : 0.021385895462953244\n",
      "Iteration 22 : 0.0034239876263864573\n",
      "Iteration 23 : 0.000728263294311214\n",
      "Iteration 24 : 0.00039119022389142886\n",
      "Iteration 25 : 0.00021044132471676152\n",
      "Iteration 26 : 0.00011250668995836572\n",
      "Iteration 27 : 5.977261164384134e-05\n",
      "Iteration 28 : 3.196998380846624e-05\n",
      "Iteration 29 : 1.7024746441751e-05\n",
      "Iteration 30 : 9.28815450949962e-06\n",
      "Iteration 31 : 5.04751519603735e-06\n",
      "Iteration 32 : 2.7439014641349043e-06\n",
      "Iteration 33 : 1.4979960846814648e-06\n",
      "Iteration 34 : 8.277550140355771e-07\n",
      "Iteration 1 : 0.022677211963338256\n",
      "Iteration 2 : 0.02267720772152358\n",
      "Iteration 3 : 0.02267720348091832\n",
      "Iteration 4 : 0.022677199046337197\n",
      "Iteration 5 : 0.022677192811728503\n",
      "Iteration 6 : 0.022677183848641973\n",
      "Iteration 7 : 0.02267717033953266\n",
      "Iteration 8 : 0.022677148732461225\n",
      "Iteration 9 : 0.0226771054631558\n",
      "Iteration 10 : 0.022677007085027092\n",
      "Iteration 11 : 0.022676854117249727\n",
      "Iteration 12 : 0.02267654798932572\n",
      "Iteration 13 : 0.022676081922310933\n",
      "Iteration 14 : 0.022675379139203148\n",
      "Iteration 15 : 0.022674333618657484\n",
      "Iteration 16 : 0.022672747459562964\n",
      "Iteration 17 : 0.022670395809928415\n",
      "Iteration 18 : 0.02266713876365856\n",
      "Iteration 19 : 0.0226610032650847\n",
      "Iteration 20 : 0.022558945890398738\n",
      "Iteration 21 : 0.007890110592267935\n",
      "Iteration 22 : 0.001980411178165551\n",
      "Iteration 23 : 0.0011187230441190056\n",
      "Iteration 24 : 0.0006540813762759256\n",
      "Iteration 25 : 0.00037946219213525243\n",
      "Iteration 26 : 0.00020739286627785642\n",
      "Iteration 27 : 0.00011246068682377101\n",
      "Iteration 28 : 6.18044969793788e-05\n",
      "Iteration 29 : 3.375153512285898e-05\n",
      "Iteration 30 : 1.8385379916990873e-05\n",
      "Iteration 31 : 9.9897284310501e-06\n",
      "Iteration 32 : 5.4408119147868245e-06\n",
      "Iteration 33 : 2.9585419236349637e-06\n",
      "Iteration 34 : 1.6097773967201226e-06\n",
      "Iteration 35 : 8.807811622353751e-07\n",
      "Iteration 1 : 0.022676773965944235\n",
      "Iteration 2 : 0.022676772369900677\n",
      "Iteration 3 : 0.02267676625954777\n",
      "Iteration 4 : 0.022676756727009507\n",
      "Iteration 5 : 0.022676741799247335\n",
      "Iteration 6 : 0.02267672116052203\n",
      "Iteration 7 : 0.02267669077229263\n",
      "Iteration 8 : 0.022676637911239247\n",
      "Iteration 9 : 0.02267656623172532\n",
      "Iteration 10 : 0.022676448752280132\n",
      "Iteration 11 : 0.022676032277135886\n",
      "Iteration 12 : 0.022675296041467626\n",
      "Iteration 13 : 0.022674169911714295\n",
      "Iteration 14 : 0.022672443789716192\n",
      "Iteration 15 : 0.022669747820351888\n",
      "Iteration 16 : 0.022665391696869035\n",
      "Iteration 17 : 0.022658370302856074\n",
      "Iteration 18 : 0.022646371410247675\n",
      "Iteration 19 : 0.02262280625403186\n",
      "Iteration 20 : 0.022559610328740914\n",
      "Iteration 21 : 0.02136940563198182\n",
      "Iteration 22 : 0.003447576642681036\n",
      "Iteration 23 : 0.0007396870241274134\n",
      "Iteration 24 : 0.0003958120528016443\n",
      "Iteration 25 : 0.00021201849873135934\n",
      "Iteration 26 : 0.00011294855614471407\n",
      "Iteration 27 : 5.991182263976745e-05\n",
      "Iteration 28 : 3.206968965458491e-05\n",
      "Iteration 29 : 1.7050932228203887e-05\n",
      "Iteration 30 : 9.326248549646104e-06\n",
      "Iteration 31 : 5.08723697134632e-06\n",
      "Iteration 32 : 2.7652026421850795e-06\n",
      "Iteration 33 : 1.526229247662649e-06\n",
      "Iteration 34 : 8.130803017409837e-07\n",
      "Iteration 1 : 0.022677209020235477\n",
      "Iteration 2 : 0.02267720595242556\n",
      "Iteration 3 : 0.022677203385791316\n",
      "Iteration 4 : 0.02267719910708521\n",
      "Iteration 5 : 0.02267719313787493\n",
      "Iteration 6 : 0.022677185474608015\n",
      "Iteration 7 : 0.02267717402013634\n",
      "Iteration 8 : 0.02267715627932499\n",
      "Iteration 9 : 0.022677110000902886\n",
      "Iteration 10 : 0.022677013264229554\n",
      "Iteration 11 : 0.022676852577622163\n",
      "Iteration 12 : 0.0226765420288029\n",
      "Iteration 13 : 0.02267607551934841\n",
      "Iteration 14 : 0.022675374563215247\n",
      "Iteration 15 : 0.022674329178816198\n",
      "Iteration 16 : 0.02267274766790404\n",
      "Iteration 17 : 0.02267039845555605\n",
      "Iteration 18 : 0.022667136181560132\n",
      "Iteration 19 : 0.022660877125521388\n",
      "Iteration 20 : 0.022555663863879926\n",
      "Iteration 21 : 0.007852931444312419\n",
      "Iteration 22 : 0.0019887311594737477\n",
      "Iteration 23 : 0.0011218671340033808\n",
      "Iteration 24 : 0.0006557506545195324\n",
      "Iteration 25 : 0.0003804361045036814\n",
      "Iteration 26 : 0.00020797411233849876\n",
      "Iteration 27 : 0.0001128545899283328\n",
      "Iteration 28 : 6.204304361761759e-05\n",
      "Iteration 29 : 3.388361542823326e-05\n",
      "Iteration 30 : 1.8463705400891523e-05\n",
      "Iteration 31 : 1.0035084011080917e-05\n",
      "Iteration 32 : 5.471391321952362e-06\n",
      "Iteration 33 : 2.9709093525954424e-06\n",
      "Iteration 34 : 1.6188251286560628e-06\n",
      "Iteration 35 : 8.923736126657258e-07\n"
     ]
    }
   ],
   "source": [
    "baseflour = pybasic.background_timelapse(images_list, flatfield)"
   ]
  },
  {
   "cell_type": "markdown",
   "metadata": {},
   "source": [
    "## Show results"
   ]
  },
  {
   "cell_type": "code",
   "execution_count": 7,
   "metadata": {},
   "outputs": [
    {
     "name": "stdout",
     "output_type": "stream",
     "text": [
      "Flatfield:\n"
     ]
    },
    {
     "data": {
      "image/png": "[encoded data removed]",
      "text/plain": [
       "<Figure size 432x288 with 1 Axes>"
      ]
     },
     "metadata": {
      "needs_background": "light"
     },
     "output_type": "display_data"
    },
    {
     "name": "stdout",
     "output_type": "stream",
     "text": [
      "Fluorescence:\n"
     ]
    },
    {
     "data": {
      "image/png": "[encoded data removed]",
      "text/plain": [
       "<Figure size 432x288 with 1 Axes>"
      ]
     },
     "metadata": {
      "needs_background": "light"
     },
     "output_type": "display_data"
    }
   ],
   "source": [
    "print('Flatfield:')\n",
    "plt.figure()\n",
    "plt.imshow(flatfield)\n",
    "plt.show()\n",
    "print('Fluorescence:')\n",
    "plt.figure()\n",
    "plt.plot(baseflour)\n",
    "plt.show()"
   ]
  },
  {
   "cell_type": "code",
   "execution_count": null,
   "metadata": {},
   "outputs": [],
   "source": []
  }
 ],
 "metadata": {
  "kernelspec": {
   "display_name": "Python 3",
   "language": "python",
   "name": "python3"
  },
  "language_info": {
   "codemirror_mode": {
    "name": "ipython",
    "version": 3
   },
   "file_extension": ".py",
   "mimetype": "text/x-python",
   "name": "python",
   "nbconvert_exporter": "python",
   "pygments_lexer": "ipython3",
   "version": "3.7.3"
  }
 },
 "nbformat": 4,
 "nbformat_minor": 4
}
