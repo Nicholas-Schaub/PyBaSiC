{
 "cells": [
  {
   "cell_type": "markdown",
   "metadata": {},
   "source": [
    "## Import modules"
   ]
  },
  {
   "cell_type": "code",
   "execution_count": 3,
   "metadata": {},
   "outputs": [],
   "source": [
    "import os\n",
    "from matplotlib import pyplot as plt\n",
    "import pybasic"
   ]
  },
  {
   "cell_type": "markdown",
   "metadata": {},
   "source": [
    "## Declare image directory paths"
   ]
  },
  {
   "cell_type": "code",
   "execution_count": 4,
   "metadata": {},
   "outputs": [],
   "source": [
    "path_to_demo_examples = 'path/to/demoexamples/'\n",
    "path_to_demo_examples = 'C:/Users/Loren/Documents/Basic_Examples/Demoexamples/'\n",
    "timelapse_path = os.path.join(path_to_demo_examples, 'timelapse_brightfield/Uncorrected')"
   ]
  },
  {
   "cell_type": "markdown",
   "metadata": {},
   "source": [
    "## Import image sequence"
   ]
  },
  {
   "cell_type": "code",
   "execution_count": 5,
   "metadata": {},
   "outputs": [
    {
     "name": "stdout",
     "output_type": "stream",
     "text": [
      "Loading image sequence...\n",
      "0 / 100\n",
      "10 / 100\n",
      "20 / 100\n",
      "30 / 100\n",
      "40 / 100\n",
      "50 / 100\n",
      "60 / 100\n",
      "70 / 100\n",
      "80 / 100\n",
      "90 / 100\n"
     ]
    }
   ],
   "source": [
    "D = pybasic.tools.load_data(timelapse_path, '.png', working_size=(128, 128), interpolation_method='bilinear')"
   ]
  },
  {
   "cell_type": "markdown",
   "metadata": {},
   "source": [
    "## Run BaSiC"
   ]
  },
  {
   "cell_type": "code",
   "execution_count": 6,
   "metadata": {},
   "outputs": [
    {
     "name": "stdout",
     "output_type": "stream",
     "text": [
      "Reweighting Iteration 1\n",
      "Iteration 1  |W|_0  1 |E1|_0 0  stopCriterion 0.4107639086291325 B1_offset 0\n",
      "Iteration 2  |W|_0  3 |E1|_0 0  stopCriterion 0.13907842299394962 B1_offset 0\n",
      "Iteration 3  |W|_0  4 |E1|_0 0  stopCriterion 0.08652055938964054 B1_offset 0\n",
      "Iteration 4  |W|_0  4 |E1|_0 0  stopCriterion 0.06196838568731994 B1_offset 0\n",
      "Iteration 5  |W|_0  6 |E1|_0 0  stopCriterion 0.054900277257078606 B1_offset 0\n",
      "Iteration 6  |W|_0  10 |E1|_0 0  stopCriterion 0.036545572741759555 B1_offset 0\n",
      "Iteration 7  |W|_0  15 |E1|_0 0  stopCriterion 0.02292002010510844 B1_offset 0\n",
      "Iteration 8  |W|_0  15 |E1|_0 0  stopCriterion 0.019238629250241314 B1_offset 0\n",
      "Iteration 9  |W|_0  22 |E1|_0 0  stopCriterion 0.015553477954478312 B1_offset 0\n",
      "Iteration 10  |W|_0  23 |E1|_0 0  stopCriterion 0.014018306901740774 B1_offset 0\n",
      "Iteration 11  |W|_0  28 |E1|_0 0  stopCriterion 0.0131519563258595 B1_offset 0\n",
      "Iteration 12  |W|_0  35 |E1|_0 0  stopCriterion 0.012391048841909186 B1_offset 0\n",
      "Iteration 13  |W|_0  49 |E1|_0 0  stopCriterion 0.011859597579347122 B1_offset 0\n",
      "Iteration 14  |W|_0  73 |E1|_0 3  stopCriterion 0.011477459469933608 B1_offset 0\n",
      "Iteration 15  |W|_0  98 |E1|_0 394  stopCriterion 0.011089441782643535 B1_offset 0\n",
      "Iteration 16  |W|_0  142 |E1|_0 2944  stopCriterion 0.010452046098628417 B1_offset 0\n",
      "Iteration 17  |W|_0  216 |E1|_0 12876  stopCriterion 0.009299318231695945 B1_offset 0\n",
      "Iteration 18  |W|_0  369 |E1|_0 35687  stopCriterion 0.007673911937451504 B1_offset 0\n",
      "Iteration 19  |W|_0  695 |E1|_0 72012  stopCriterion 0.006052141004318362 B1_offset 0\n",
      "Iteration 20  |W|_0  1300 |E1|_0 123571  stopCriterion 0.004693624374421758 B1_offset 0\n",
      "Iteration 21  |W|_0  2222 |E1|_0 196785  stopCriterion 0.0036201612223044203 B1_offset 0\n",
      "Iteration 22  |W|_0  3412 |E1|_0 302060  stopCriterion 0.00277238327586233 B1_offset 0\n",
      "Iteration 23  |W|_0  4736 |E1|_0 455719  stopCriterion 0.0020782765827348764 B1_offset 0\n",
      "Iteration 24  |W|_0  5842 |E1|_0 697338  stopCriterion 0.0014241400014010897 B1_offset 0\n",
      "Iteration 25  |W|_0  6377 |E1|_0 947478  stopCriterion 0.0008445475080246211 B1_offset 0\n",
      "Iteration 26  |W|_0  6633 |E1|_0 1140463  stopCriterion 0.0004778619447503667 B1_offset 0\n",
      "Iteration 27  |W|_0  6817 |E1|_0 1281965  stopCriterion 0.00027189902781121354 B1_offset 0\n",
      "Iteration 28  |W|_0  6989 |E1|_0 1385447  stopCriterion 0.000155152655166222 B1_offset 0\n",
      "Iteration 29  |W|_0  7081 |E1|_0 1460268  stopCriterion 8.859279271085524e-05 B1_offset 0\n",
      "Iteration 30  |W|_0  7122 |E1|_0 1514392  stopCriterion 5.045631739237037e-05 B1_offset 0\n",
      "Iteration 31  |W|_0  7149 |E1|_0 1552867  stopCriterion 2.8548123609615455e-05 B1_offset 0\n",
      "Iteration 32  |W|_0  7166 |E1|_0 1579905  stopCriterion 1.608817413992579e-05 B1_offset 0\n",
      "Iteration 33  |W|_0  7182 |E1|_0 1598741  stopCriterion 8.980797613318645e-06 B1_offset 0\n",
      "Iteration 34  |W|_0  7186 |E1|_0 1611633  stopCriterion 4.9744275644832465e-06 B1_offset 0\n",
      "Iteration 35  |W|_0  7188 |E1|_0 1620276  stopCriterion 2.7486898318265844e-06 B1_offset 0\n",
      "Iteration 36  |W|_0  7185 |E1|_0 1626216  stopCriterion 1.528150894553262e-06 B1_offset 0\n",
      "Iteration 37  |W|_0  7185 |E1|_0 1630221  stopCriterion 8.406438984243428e-07 B1_offset 0\n",
      "Reweighting Iteration 2\n",
      "Iteration 1  |W|_0  1 |E1|_0 0  stopCriterion 0.4107639086291325 B1_offset 0\n",
      "Iteration 2  |W|_0  3 |E1|_0 0  stopCriterion 0.13907842299394962 B1_offset 0\n",
      "Iteration 3  |W|_0  4 |E1|_0 0  stopCriterion 0.08652055938964054 B1_offset 0\n",
      "Iteration 4  |W|_0  4 |E1|_0 0  stopCriterion 0.06196838568731994 B1_offset 0\n",
      "Iteration 5  |W|_0  6 |E1|_0 0  stopCriterion 0.054900277257078606 B1_offset 0\n",
      "Iteration 6  |W|_0  10 |E1|_0 0  stopCriterion 0.036545572741759555 B1_offset 0\n",
      "Iteration 7  |W|_0  15 |E1|_0 0  stopCriterion 0.02292002010510844 B1_offset 0\n",
      "Iteration 8  |W|_0  15 |E1|_0 0  stopCriterion 0.019238629250241314 B1_offset 0\n",
      "Iteration 9  |W|_0  22 |E1|_0 0  stopCriterion 0.015553477954478312 B1_offset 0\n",
      "Iteration 10  |W|_0  23 |E1|_0 0  stopCriterion 0.014018306901740774 B1_offset 0\n",
      "Iteration 11  |W|_0  28 |E1|_0 1  stopCriterion 0.013151705376543253 B1_offset 0\n",
      "Iteration 12  |W|_0  35 |E1|_0 54  stopCriterion 0.012371067331648722 B1_offset 0\n",
      "Iteration 13  |W|_0  49 |E1|_0 386  stopCriterion 0.011730800706238963 B1_offset 0\n",
      "Iteration 14  |W|_0  73 |E1|_0 1601  stopCriterion 0.011070865171349998 B1_offset 0\n",
      "Iteration 15  |W|_0  95 |E1|_0 4808  stopCriterion 0.01028247700829002 B1_offset 0\n",
      "Iteration 16  |W|_0  134 |E1|_0 13284  stopCriterion 0.00923650713214897 B1_offset 0\n",
      "Iteration 17  |W|_0  190 |E1|_0 28891  stopCriterion 0.008004188918581664 B1_offset 0\n",
      "Iteration 18  |W|_0  281 |E1|_0 53284  stopCriterion 0.006676391105805732 B1_offset 0\n",
      "Iteration 19  |W|_0  474 |E1|_0 88921  stopCriterion 0.005455539806550279 B1_offset 0\n",
      "Iteration 20  |W|_0  909 |E1|_0 136677  stopCriterion 0.004394457054800623 B1_offset 0\n",
      "Iteration 21  |W|_0  1791 |E1|_0 205256  stopCriterion 0.003492968358357339 B1_offset 0\n",
      "Iteration 22  |W|_0  2915 |E1|_0 304780  stopCriterion 0.002726716735101163 B1_offset 0\n",
      "Iteration 23  |W|_0  4265 |E1|_0 451785  stopCriterion 0.0020739473743639054 B1_offset 0\n",
      "Iteration 24  |W|_0  5499 |E1|_0 683647  stopCriterion 0.0014419735119463736 B1_offset 0\n",
      "Iteration 25  |W|_0  6102 |E1|_0 929007  stopCriterion 0.0008701629403465325 B1_offset 0\n",
      "Iteration 26  |W|_0  6424 |E1|_0 1122026  stopCriterion 0.0004980112596052001 B1_offset 0\n",
      "Iteration 27  |W|_0  6679 |E1|_0 1265464  stopCriterion 0.0002856967075532504 B1_offset 0\n",
      "Iteration 28  |W|_0  6856 |E1|_0 1371566  stopCriterion 0.00016414683353252636 B1_offset 0\n",
      "Iteration 29  |W|_0  6957 |E1|_0 1449473  stopCriterion 9.43610642557146e-05 B1_offset 0\n",
      "Iteration 30  |W|_0  7010 |E1|_0 1506185  stopCriterion 5.394021338493892e-05 B1_offset 0\n",
      "Iteration 31  |W|_0  7034 |E1|_0 1546810  stopCriterion 3.067435886260768e-05 B1_offset 0\n",
      "Iteration 32  |W|_0  7048 |E1|_0 1575538  stopCriterion 1.7306521355351824e-05 B1_offset 0\n",
      "Iteration 33  |W|_0  7053 |E1|_0 1595482  stopCriterion 9.677980918827082e-06 B1_offset 0\n",
      "Iteration 34  |W|_0  7061 |E1|_0 1609396  stopCriterion 5.397356503396127e-06 B1_offset 0\n",
      "Iteration 35  |W|_0  7064 |E1|_0 1618811  stopCriterion 2.9894054425847257e-06 B1_offset 0\n",
      "Iteration 36  |W|_0  7068 |E1|_0 1625201  stopCriterion 1.6510801750659643e-06 B1_offset 0\n",
      "Iteration 37  |W|_0  7072 |E1|_0 1629471  stopCriterion 9.16302440338274e-07 B1_offset 0\n"
     ]
    }
   ],
   "source": [
    "flatfield = pybasic.basic(D, segmentation=None)"
   ]
  },
  {
   "cell_type": "markdown",
   "metadata": {},
   "source": [
    "## Prepare images for background fluoresncence estimation (stack needs to be a list)"
   ]
  },
  {
   "cell_type": "code",
   "execution_count": 7,
   "metadata": {},
   "outputs": [],
   "source": [
    "images_list = []\n",
    "for i in range(D.shape[2]):\n",
    "    images_list.append(D[:,:,i])"
   ]
  },
  {
   "cell_type": "markdown",
   "metadata": {},
   "source": [
    "## Estimate background fluorescence"
   ]
  },
  {
   "cell_type": "code",
   "execution_count": 8,
   "metadata": {},
   "outputs": [
    {
     "name": "stdout",
     "output_type": "stream",
     "text": [
      "Iteration 1 : 0.022677460075298993\n",
      "Iteration 2 : 0.022677460075298993\n",
      "Iteration 3 : 0.022677460075298993\n",
      "Iteration 4 : 0.022677460075298993\n",
      "Iteration 5 : 0.022677460075298993\n",
      "Iteration 6 : 0.022677460075298993\n",
      "Iteration 7 : 0.022677460075298993\n",
      "Iteration 8 : 0.022677460075298993\n",
      "Iteration 9 : 0.022677460075298993\n",
      "Iteration 10 : 0.022677460075298993\n",
      "Iteration 11 : 0.022677460075298993\n",
      "Iteration 12 : 0.022677460075298993\n",
      "Iteration 13 : 0.022676062517093667\n",
      "Iteration 14 : 0.02260568200553634\n",
      "Iteration 15 : 0.020335504495368525\n",
      "Iteration 16 : 0.01541259979111585\n",
      "Iteration 17 : 0.011670103370622367\n",
      "Iteration 18 : 0.009022119118773436\n",
      "Iteration 19 : 0.0067930581906584485\n",
      "Iteration 20 : 0.004956496016222589\n",
      "Iteration 21 : 0.0035614176719985092\n",
      "Iteration 22 : 0.002723567717367292\n",
      "Iteration 23 : 0.0017817457932815808\n",
      "Iteration 24 : 0.0011491781253874045\n",
      "Iteration 25 : 0.0007459008412666675\n",
      "Iteration 26 : 0.00046589841905754107\n",
      "Iteration 27 : 0.0002795939845866321\n",
      "Iteration 28 : 0.00016487221205175193\n",
      "Iteration 29 : 9.742591078282498e-05\n",
      "Iteration 30 : 5.567321741988412e-05\n",
      "Iteration 31 : 3.048101202647085e-05\n",
      "Iteration 32 : 1.6712534047848416e-05\n",
      "Iteration 33 : 9.179155629794142e-06\n",
      "Iteration 34 : 4.9688570060382114e-06\n",
      "Iteration 35 : 2.7070161930648567e-06\n",
      "Iteration 36 : 1.480660872831303e-06\n",
      "Iteration 37 : 8.058520671266351e-07\n"
     ]
    },
    {
     "name": "stderr",
     "output_type": "stream",
     "text": [
      "c:\\users\\loren\\documents\\pybasic\\pybasic\\_background.py:116: RuntimeWarning: divide by zero encountered in true_divide\n",
      "  XE_norm = np.transpose(np.tile(mean_vec, (16384, 1))) / XE_norm\n"
     ]
    },
    {
     "name": "stdout",
     "output_type": "stream",
     "text": [
      "Iteration 1 : 0.02267691349643389\n",
      "Iteration 2 : 0.022676912548261745\n",
      "Iteration 3 : 0.022676906277878602\n",
      "Iteration 4 : 0.02267689763516003\n",
      "Iteration 5 : 0.02267688350149171\n",
      "Iteration 6 : 0.02267686125011102\n",
      "Iteration 7 : 0.02267683188189311\n",
      "Iteration 8 : 0.022676787716037042\n",
      "Iteration 9 : 0.02267671529715181\n",
      "Iteration 10 : 0.022676510574346012\n",
      "Iteration 11 : 0.02267609136659006\n",
      "Iteration 12 : 0.022675393879661474\n",
      "Iteration 13 : 0.022674318681939885\n",
      "Iteration 14 : 0.022672667197667674\n",
      "Iteration 15 : 0.022670010501135096\n",
      "Iteration 16 : 0.022665775776547412\n",
      "Iteration 17 : 0.022658908189583986\n",
      "Iteration 18 : 0.022647125656617445\n",
      "Iteration 19 : 0.022623849857108955\n",
      "Iteration 20 : 0.02256211067541088\n",
      "Iteration 21 : 0.021385895462952508\n",
      "Iteration 22 : 0.003423987626383832\n",
      "Iteration 23 : 0.0007282632943111779\n",
      "Iteration 24 : 0.0003911902238914061\n",
      "Iteration 25 : 0.00021044132471674412\n",
      "Iteration 26 : 0.00011250668995835345\n",
      "Iteration 27 : 5.9772611643832346e-05\n",
      "Iteration 28 : 3.196998380846034e-05\n",
      "Iteration 29 : 1.7024746441746475e-05\n",
      "Iteration 30 : 9.288154509496333e-06\n",
      "Iteration 31 : 5.047515196034483e-06\n",
      "Iteration 32 : 2.74390146413271e-06\n",
      "Iteration 33 : 1.497996084679382e-06\n",
      "Iteration 34 : 8.277550140345545e-07\n",
      "Iteration 1 : 0.02267721196333821\n",
      "Iteration 2 : 0.022677207721523485\n",
      "Iteration 3 : 0.022677203480918465\n",
      "Iteration 4 : 0.022677199046337092\n",
      "Iteration 5 : 0.0226771928117285\n",
      "Iteration 6 : 0.022677183848641935\n",
      "Iteration 7 : 0.022677170339532527\n",
      "Iteration 8 : 0.02267714873246101\n",
      "Iteration 9 : 0.02267710546315553\n",
      "Iteration 10 : 0.022677007085027224\n",
      "Iteration 11 : 0.022676854117249592\n",
      "Iteration 12 : 0.022676547989325637\n",
      "Iteration 13 : 0.02267608192231084\n",
      "Iteration 14 : 0.022675379139203183\n",
      "Iteration 15 : 0.02267433361865751\n",
      "Iteration 16 : 0.022672747459562794\n",
      "Iteration 17 : 0.02267039580992827\n",
      "Iteration 18 : 0.02266713876365878\n",
      "Iteration 19 : 0.02266100326508475\n",
      "Iteration 20 : 0.02255894589039887\n",
      "Iteration 21 : 0.00789011059226568\n",
      "Iteration 22 : 0.001980411178165399\n",
      "Iteration 23 : 0.0011187230441189028\n",
      "Iteration 24 : 0.00065408137627587\n",
      "Iteration 25 : 0.0003794621921352206\n",
      "Iteration 26 : 0.00020739286627782883\n",
      "Iteration 27 : 0.0001124606868237595\n",
      "Iteration 28 : 6.180449697937483e-05\n",
      "Iteration 29 : 3.375153512285589e-05\n",
      "Iteration 30 : 1.838537991698846e-05\n",
      "Iteration 31 : 9.989728431049488e-06\n",
      "Iteration 32 : 5.440811914785544e-06\n",
      "Iteration 33 : 2.9585419236342907e-06\n",
      "Iteration 34 : 1.60977739672019e-06\n",
      "Iteration 35 : 8.807811622361057e-07\n",
      "Iteration 1 : 0.02267677396594419\n",
      "Iteration 2 : 0.02267677236990068\n",
      "Iteration 3 : 0.022676766259547596\n",
      "Iteration 4 : 0.022676756727009584\n",
      "Iteration 5 : 0.022676741799247266\n",
      "Iteration 6 : 0.02267672116052206\n",
      "Iteration 7 : 0.02267669077229249\n",
      "Iteration 8 : 0.02267663791123935\n",
      "Iteration 9 : 0.022676566231725134\n",
      "Iteration 10 : 0.022676448752280295\n",
      "Iteration 11 : 0.022676032277135702\n",
      "Iteration 12 : 0.022675296041467674\n",
      "Iteration 13 : 0.02267416991171446\n",
      "Iteration 14 : 0.022672443789716227\n",
      "Iteration 15 : 0.02266974782035182\n",
      "Iteration 16 : 0.02266539169686888\n",
      "Iteration 17 : 0.022658370302855953\n",
      "Iteration 18 : 0.0226463714102478\n",
      "Iteration 19 : 0.022622806254031905\n",
      "Iteration 20 : 0.022559610328740813\n",
      "Iteration 21 : 0.021369405631980934\n",
      "Iteration 22 : 0.0034475766426784325\n",
      "Iteration 23 : 0.0007396870241273879\n",
      "Iteration 24 : 0.0003958120528016234\n",
      "Iteration 25 : 0.0002120184987313427\n",
      "Iteration 26 : 0.0001129485561447019\n",
      "Iteration 27 : 5.9911822639757397e-05\n",
      "Iteration 28 : 3.2069689654579214e-05\n",
      "Iteration 29 : 1.705093222819891e-05\n",
      "Iteration 30 : 9.326248549641904e-06\n",
      "Iteration 31 : 5.087236971343872e-06\n",
      "Iteration 32 : 2.765202642182234e-06\n",
      "Iteration 33 : 1.526229247661209e-06\n",
      "Iteration 34 : 8.130803017385936e-07\n",
      "Iteration 1 : 0.02267720902023543\n",
      "Iteration 2 : 0.022677205952425665\n",
      "Iteration 3 : 0.02267720338579141\n",
      "Iteration 4 : 0.02267719910708513\n",
      "Iteration 5 : 0.02267719313787485\n",
      "Iteration 6 : 0.022677185474608053\n",
      "Iteration 7 : 0.022677174020136304\n",
      "Iteration 8 : 0.022677156279325136\n",
      "Iteration 9 : 0.022677110000902948\n",
      "Iteration 10 : 0.02267701326422966\n",
      "Iteration 11 : 0.022676852577622253\n",
      "Iteration 12 : 0.022676542028802833\n",
      "Iteration 13 : 0.022676075519348377\n",
      "Iteration 14 : 0.022675374563215354\n",
      "Iteration 15 : 0.02267432917881621\n",
      "Iteration 16 : 0.022672747667904315\n",
      "Iteration 17 : 0.02267039845555605\n",
      "Iteration 18 : 0.022667136181560115\n",
      "Iteration 19 : 0.022660877125521325\n",
      "Iteration 20 : 0.022555663863879662\n",
      "Iteration 21 : 0.007852931444310181\n",
      "Iteration 22 : 0.001988731159473592\n",
      "Iteration 23 : 0.001121867134003289\n",
      "Iteration 24 : 0.0006557506545194732\n",
      "Iteration 25 : 0.000380436104503647\n",
      "Iteration 26 : 0.00020797411233846894\n",
      "Iteration 27 : 0.00011285458992832159\n",
      "Iteration 28 : 6.204304361761262e-05\n",
      "Iteration 29 : 3.388361542822958e-05\n",
      "Iteration 30 : 1.846370540088913e-05\n",
      "Iteration 31 : 1.0035084011080632e-05\n",
      "Iteration 32 : 5.471391321950799e-06\n",
      "Iteration 33 : 2.9709093525948795e-06\n",
      "Iteration 34 : 1.6188251286566815e-06\n",
      "Iteration 35 : 8.92373612666593e-07\n"
     ]
    }
   ],
   "source": [
    "baseflour = pybasic.background_timelapse(images_list, flatfield)"
   ]
  },
  {
   "cell_type": "markdown",
   "metadata": {},
   "source": [
    "## Show results"
   ]
  },
  {
   "cell_type": "code",
   "execution_count": 10,
   "metadata": {},
   "outputs": [
    {
     "name": "stdout",
     "output_type": "stream",
     "text": [
      "Flatfield:\n"
     ]
    },
    {
     "data": {
      "image/png": "[encoded data removed]",
      "text/plain": [
       "<Figure size 432x288 with 1 Axes>"
      ]
     },
     "metadata": {
      "needs_background": "light"
     },
     "output_type": "display_data"
    },
    {
     "name": "stdout",
     "output_type": "stream",
     "text": [
      "Fluorescence:\n"
     ]
    },
    {
     "data": {
      "image/png": "[encoded data removed]",
      "text/plain": [
       "<Figure size 432x288 with 1 Axes>"
      ]
     },
     "metadata": {
      "needs_background": "light"
     },
     "output_type": "display_data"
    }
   ],
   "source": [
    "print('Flatfield:')\n",
    "plt.figure()\n",
    "plt.imshow(flatfield)\n",
    "plt.show()\n",
    "print('Fluorescence:')\n",
    "plt.figure()\n",
    "plt.plot(baseflour)\n",
    "plt.show()"
   ]
  }
 ],
 "metadata": {
  "kernelspec": {
   "display_name": "Python 3",
   "language": "python",
   "name": "python3"
  },
  "language_info": {
   "codemirror_mode": {
    "name": "ipython",
    "version": 3
   },
   "file_extension": ".py",
   "mimetype": "text/x-python",
   "name": "python",
   "nbconvert_exporter": "python",
   "pygments_lexer": "ipython3",
   "version": "3.7.3"
  }
 },
 "nbformat": 4,
 "nbformat_minor": 4
}
